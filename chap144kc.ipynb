{
 "cells": [
  {
   "cell_type": "markdown",
   "metadata": {},
   "source": [
    "# 1.4.4 Smoothing Images"
   ]
  },
  {
   "cell_type": "markdown",
   "metadata": {},
   "source": [
    "## Kernel Convolution"
   ]
  },
  {
   "cell_type": "code",
   "execution_count": 1,
   "metadata": {},
   "outputs": [],
   "source": [
    "import cv2\n",
    "import numpy as np\n",
    "from matplotlib import pyplot as plt"
   ]
  },
  {
   "cell_type": "code",
   "execution_count": 23,
   "metadata": {},
   "outputs": [],
   "source": [
    "l=1\n",
    "kernel = np.array([[0,-1,0],[-1,4,-1],[0,-1,0]],np.float32)"
   ]
  },
  {
   "cell_type": "code",
   "execution_count": 24,
   "metadata": {},
   "outputs": [
    {
     "data": {
      "text/plain": [
       "array([[ 0., -1.,  0.],\n",
       "       [-1.,  4., -1.],\n",
       "       [ 0., -1.,  0.]], dtype=float32)"
      ]
     },
     "execution_count": 24,
     "metadata": {},
     "output_type": "execute_result"
    }
   ],
   "source": [
    "kernel"
   ]
  },
  {
   "cell_type": "code",
   "execution_count": 25,
   "metadata": {},
   "outputs": [],
   "source": [
    "img = np.random.randint(10, size=(12,12))\n",
    "#img = np.ones((10,10),np.float32)"
   ]
  },
  {
   "cell_type": "code",
   "execution_count": 26,
   "metadata": {},
   "outputs": [
    {
     "data": {
      "text/plain": [
       "array([[3, 8, 7, 1, 2, 4, 4, 7, 6, 4, 7, 0],\n",
       "       [5, 4, 2, 6, 9, 8, 2, 8, 0, 5, 6, 7],\n",
       "       [3, 6, 9, 7, 2, 7, 4, 9, 2, 9, 6, 1],\n",
       "       [9, 4, 2, 8, 8, 3, 0, 2, 1, 4, 5, 3],\n",
       "       [6, 7, 2, 9, 2, 5, 3, 2, 7, 9, 0, 4],\n",
       "       [6, 1, 1, 3, 7, 6, 5, 1, 5, 1, 4, 0],\n",
       "       [9, 7, 4, 7, 7, 5, 6, 4, 8, 3, 9, 1],\n",
       "       [5, 2, 1, 9, 1, 5, 4, 6, 0, 6, 3, 8],\n",
       "       [0, 1, 9, 4, 2, 7, 7, 9, 6, 4, 5, 4],\n",
       "       [1, 0, 8, 8, 4, 5, 0, 2, 0, 5, 4, 8],\n",
       "       [9, 5, 1, 3, 9, 2, 6, 6, 7, 2, 1, 1],\n",
       "       [5, 7, 6, 4, 7, 6, 9, 8, 3, 0, 4, 9]])"
      ]
     },
     "execution_count": 26,
     "metadata": {},
     "output_type": "execute_result"
    }
   ],
   "source": [
    "img"
   ]
  },
  {
   "cell_type": "code",
   "execution_count": 27,
   "metadata": {},
   "outputs": [],
   "source": [
    "h,w=img.shape"
   ]
  },
  {
   "cell_type": "code",
   "execution_count": 28,
   "metadata": {},
   "outputs": [
    {
     "name": "stdout",
     "output_type": "stream",
     "text": [
      "12 12\n"
     ]
    }
   ],
   "source": [
    "print(h,w)"
   ]
  },
  {
   "cell_type": "code",
   "execution_count": 29,
   "metadata": {},
   "outputs": [],
   "source": [
    "#[*range(-2,3)]"
   ]
  },
  {
   "cell_type": "code",
   "execution_count": 30,
   "metadata": {},
   "outputs": [
    {
     "name": "stderr",
     "output_type": "stream",
     "text": [
      "/var/folders/qs/kpr107616cncng7n99zy3t480000gn/T/ipykernel_4124/2160328971.py:1: DeprecationWarning: `np.int` is a deprecated alias for the builtin `int`. To silence this warning, use `int` by itself. Doing this will not modify any behavior and is safe. When replacing `np.int`, you may wish to use e.g. `np.int64` or `np.int32` to specify the precision. If you wish to review your current use, check the release note link for additional information.\n",
      "Deprecated in NumPy 1.20; for more details and guidance: https://numpy.org/devdocs/release/1.20.0-notes.html#deprecations\n",
      "  dst = np.zeros((h,w),np.int)\n"
     ]
    }
   ],
   "source": [
    "dst = np.zeros((h,w),np.int)"
   ]
  },
  {
   "cell_type": "code",
   "execution_count": 31,
   "metadata": {},
   "outputs": [],
   "source": [
    "l=1\n",
    "kernel = np.array([[0,-1,0],[-1,5,-1],[0,-1,0]],np.float32)"
   ]
  },
  {
   "cell_type": "code",
   "execution_count": 32,
   "metadata": {},
   "outputs": [],
   "source": [
    "for i in range(l,h-l):\n",
    "    for j in range(l,w-l):\n",
    "        t=0\n",
    "        for p in range(-l,l+1):\n",
    "            for q in range(-l,l+1):\n",
    "                t += kernel[p+l,q+l]*img[i+p,j+q]\n",
    "        dst[i,j]=t        "
   ]
  },
  {
   "cell_type": "code",
   "execution_count": 33,
   "metadata": {},
   "outputs": [
    {
     "data": {
      "text/plain": [
       "array([[3, 8, 7, 1, 2, 4, 4, 7, 6, 4, 7, 0],\n",
       "       [5, 4, 2, 6, 9, 8, 2, 8, 0, 5, 6, 7],\n",
       "       [3, 6, 9, 7, 2, 7, 4, 9, 2, 9, 6, 1],\n",
       "       [9, 4, 2, 8, 8, 3, 0, 2, 1, 4, 5, 3],\n",
       "       [6, 7, 2, 9, 2, 5, 3, 2, 7, 9, 0, 4],\n",
       "       [6, 1, 1, 3, 7, 6, 5, 1, 5, 1, 4, 0],\n",
       "       [9, 7, 4, 7, 7, 5, 6, 4, 8, 3, 9, 1],\n",
       "       [5, 2, 1, 9, 1, 5, 4, 6, 0, 6, 3, 8],\n",
       "       [0, 1, 9, 4, 2, 7, 7, 9, 6, 4, 5, 4],\n",
       "       [1, 0, 8, 8, 4, 5, 0, 2, 0, 5, 4, 8],\n",
       "       [9, 5, 1, 3, 9, 2, 6, 6, 7, 2, 1, 1],\n",
       "       [5, 7, 6, 4, 7, 6, 9, 8, 3, 0, 4, 9]])"
      ]
     },
     "execution_count": 33,
     "metadata": {},
     "output_type": "execute_result"
    }
   ],
   "source": [
    "img"
   ]
  },
  {
   "cell_type": "code",
   "execution_count": 34,
   "metadata": {},
   "outputs": [
    {
     "data": {
      "text/plain": [
       "array([[  0,   0,   0,   0,   0,   0,   0,   0,   0,   0,   0,   0],\n",
       "       [  0,  -1, -16,  11,  27,  18, -14,  22, -21,   6,   5,   0],\n",
       "       [  0,  10,  28,  10, -21,  18,   2,  29,  -9,  28,   9,   0],\n",
       "       [  0,  -4, -13,  14,  25,  -5, -12,  -2, -10,  -4,  12,   0],\n",
       "       [  0,  22,  -9,  30, -19,  11,   3,  -3,  18,  33, -22,   0],\n",
       "       [  0, -16,  -5,  -9,  17,   8,   9, -11,   8, -16,  10,   0],\n",
       "       [  0,  19,   4,  12,  15,   1,  12,  -1,  28,  -9,  34,   0],\n",
       "       [  0,  -4, -19,  32, -18,   8,  -4,  13, -26,  20, -13,   0],\n",
       "       [  0,  -6,  31,  -8,  -6,  16,  15,  24,  17,  -2,  10,   0],\n",
       "       [  0, -15,  22,  21,  -4,  12, -20,  -5, -20,  15,   1,   0],\n",
       "       [  0,   8, -17,  -7,  29, -16,  13,   7,  24,  -3,  -6,   0],\n",
       "       [  0,   0,   0,   0,   0,   0,   0,   0,   0,   0,   0,   0]])"
      ]
     },
     "execution_count": 34,
     "metadata": {},
     "output_type": "execute_result"
    }
   ],
   "source": [
    "dst"
   ]
  },
  {
   "cell_type": "code",
   "execution_count": 35,
   "metadata": {},
   "outputs": [],
   "source": [
    "img = cv2.imread('lena.png', 0)"
   ]
  },
  {
   "cell_type": "code",
   "execution_count": 36,
   "metadata": {},
   "outputs": [],
   "source": [
    "h,w=img.shape"
   ]
  },
  {
   "cell_type": "code",
   "execution_count": 37,
   "metadata": {},
   "outputs": [],
   "source": [
    "dst = np.zeros((h-2*l,w-2*l),np.uint8)"
   ]
  },
  {
   "cell_type": "code",
   "execution_count": 38,
   "metadata": {},
   "outputs": [],
   "source": [
    "for i in range(l,h-l):\n",
    "    for j in range(l,w-l):\n",
    "        t=0\n",
    "        for p in range(-l,l+1):\n",
    "            for q in range(-l,l+1):\n",
    "                t += kernel[p+l,q+l]*img[i+p,j+q]\n",
    "        dst[i-l,j-l]=t "
   ]
  },
  {
   "cell_type": "code",
   "execution_count": 39,
   "metadata": {},
   "outputs": [
    {
     "data": {
      "text/plain": [
       "-1"
      ]
     },
     "execution_count": 39,
     "metadata": {},
     "output_type": "execute_result"
    }
   ],
   "source": [
    "cv2.imshow('img',img)\n",
    "cv2.imshow('dst',dst)\n",
    "cv2.waitKey(0)\n",
    "cv2.destroyAllWindows()\n",
    "cv2.waitKey(1)"
   ]
  },
  {
   "cell_type": "code",
   "execution_count": null,
   "metadata": {},
   "outputs": [],
   "source": []
  }
 ],
 "metadata": {
  "kernelspec": {
   "display_name": "Python 3 (ipykernel)",
   "language": "python",
   "name": "python3"
  },
  "language_info": {
   "codemirror_mode": {
    "name": "ipython",
    "version": 3
   },
   "file_extension": ".py",
   "mimetype": "text/x-python",
   "name": "python",
   "nbconvert_exporter": "python",
   "pygments_lexer": "ipython3",
   "version": "3.8.10"
  }
 },
 "nbformat": 4,
 "nbformat_minor": 4
}
