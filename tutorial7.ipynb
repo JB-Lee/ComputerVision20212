{
 "cells": [
  {
   "cell_type": "markdown",
   "id": "8a8c6206-76f7-484b-b2c0-3c1bce3f0ab9",
   "metadata": {},
   "source": [
    "# List Comprehensions"
   ]
  },
  {
   "cell_type": "code",
   "execution_count": 1,
   "id": "244cc900-8339-4092-bc94-e2368aa5aaf1",
   "metadata": {},
   "outputs": [],
   "source": [
    "li = [3, 6, 2, 7]"
   ]
  },
  {
   "cell_type": "code",
   "execution_count": 2,
   "id": "44e02ecc-eaf8-4a4f-a0dc-233f1611fad6",
   "metadata": {},
   "outputs": [
    {
     "data": {
      "text/plain": [
       "[6, 12, 4, 14]"
      ]
     },
     "execution_count": 2,
     "metadata": {},
     "output_type": "execute_result"
    }
   ],
   "source": [
    "[e * 2 for e in li]"
   ]
  },
  {
   "cell_type": "code",
   "execution_count": 3,
   "id": "54b3620a-4462-4017-984d-e96ebda4fe6d",
   "metadata": {},
   "outputs": [],
   "source": [
    "li = [('a', 1), ('b', 2), ('c', 7)]"
   ]
  },
  {
   "cell_type": "code",
   "execution_count": 4,
   "id": "11c35439-1106-4698-b7f6-05f3ce929bbb",
   "metadata": {},
   "outputs": [
    {
     "data": {
      "text/plain": [
       "[3, 6, 21]"
      ]
     },
     "execution_count": 4,
     "metadata": {},
     "output_type": "execute_result"
    }
   ],
   "source": [
    "[n * 3 for (x, n) in li]"
   ]
  },
  {
   "cell_type": "markdown",
   "id": "da23d790-6c34-41fb-a770-89e9ba460267",
   "metadata": {},
   "source": [
    "# Filtered List Comprehension"
   ]
  },
  {
   "cell_type": "code",
   "execution_count": 5,
   "id": "cf60a37d-d1ef-46a3-ac56-1774f4264daa",
   "metadata": {},
   "outputs": [],
   "source": [
    "li = [3, 6, 2, 7, 1, 9]"
   ]
  },
  {
   "cell_type": "code",
   "execution_count": 6,
   "id": "677a4918-2359-4bc6-8742-a52fb9ac8593",
   "metadata": {},
   "outputs": [
    {
     "data": {
      "text/plain": [
       "[12, 14, 18]"
      ]
     },
     "execution_count": 6,
     "metadata": {},
     "output_type": "execute_result"
    }
   ],
   "source": [
    "[e * 2 for e in li if e > 4]"
   ]
  },
  {
   "cell_type": "markdown",
   "id": "287690be-ec9c-422b-8392-896830b9122d",
   "metadata": {},
   "source": [
    "# Nested List Comprehensions"
   ]
  },
  {
   "cell_type": "code",
   "execution_count": 7,
   "id": "21fd44e9-5ae5-41ba-b173-96413b33f1ab",
   "metadata": {},
   "outputs": [],
   "source": [
    "li = [3, 2, 4, 1]"
   ]
  },
  {
   "cell_type": "code",
   "execution_count": 8,
   "id": "cdc9915d-998d-4466-920d-bdc1c48d0d12",
   "metadata": {},
   "outputs": [
    {
     "data": {
      "text/plain": [
       "[8, 6, 10, 4]"
      ]
     },
     "execution_count": 8,
     "metadata": {},
     "output_type": "execute_result"
    }
   ],
   "source": [
    "[e * 2 for e in [i + 1 for i in li]]"
   ]
  },
  {
   "cell_type": "code",
   "execution_count": null,
   "id": "05345814-c387-400b-842f-677810a26ad2",
   "metadata": {},
   "outputs": [],
   "source": []
  }
 ],
 "metadata": {
  "kernelspec": {
   "display_name": "Python 3",
   "language": "python",
   "name": "python3"
  },
  "language_info": {
   "codemirror_mode": {
    "name": "ipython",
    "version": 3
   },
   "file_extension": ".py",
   "mimetype": "text/x-python",
   "name": "python",
   "nbconvert_exporter": "python",
   "pygments_lexer": "ipython3",
   "version": "3.8.8"
  }
 },
 "nbformat": 4,
 "nbformat_minor": 5
}
