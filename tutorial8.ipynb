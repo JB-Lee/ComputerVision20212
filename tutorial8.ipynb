{
 "cells": [
  {
   "cell_type": "markdown",
   "id": "c70b078d-8973-4407-b6f6-fdd19b65e5da",
   "metadata": {},
   "source": [
    "# Defining Functions"
   ]
  },
  {
   "cell_type": "code",
   "execution_count": 1,
   "id": "b0513351-0db2-4ce1-ba0e-e7aaa540bb55",
   "metadata": {},
   "outputs": [],
   "source": [
    "def get_final_answer(filename):\n",
    "    '''Documentation String'''\n",
    "    return None"
   ]
  },
  {
   "cell_type": "markdown",
   "id": "f3dea788-a665-4ab5-b4f3-eb908452243b",
   "metadata": {},
   "source": [
    "# Calling a Function"
   ]
  },
  {
   "cell_type": "code",
   "execution_count": 2,
   "id": "9514de9a-4909-4a3d-a0a5-4501da686879",
   "metadata": {},
   "outputs": [],
   "source": [
    "def myfun(x, y):\n",
    "    return x * y\n"
   ]
  },
  {
   "cell_type": "code",
   "execution_count": 3,
   "id": "21cf624c-10e5-4c89-8850-09c5240f3e16",
   "metadata": {},
   "outputs": [
    {
     "data": {
      "text/plain": [
       "12"
      ]
     },
     "execution_count": 3,
     "metadata": {},
     "output_type": "execute_result"
    }
   ],
   "source": [
    "myfun(3, 4)"
   ]
  },
  {
   "cell_type": "markdown",
   "id": "29f52838-ced8-405c-9418-1b9dbaadcbe9",
   "metadata": {},
   "source": [
    "# Functions are first-class objects in Python"
   ]
  },
  {
   "cell_type": "code",
   "execution_count": 4,
   "id": "38b33422-efab-414b-8e2b-323ca722e829",
   "metadata": {},
   "outputs": [
    {
     "data": {
      "text/plain": [
       "21"
      ]
     },
     "execution_count": 4,
     "metadata": {},
     "output_type": "execute_result"
    }
   ],
   "source": [
    "def myfun(x):\n",
    "    return x * 3\n",
    "\n",
    "def apply(q, x):\n",
    "    return q(x)\n",
    "\n",
    "apply(myfun, 7)"
   ]
  },
  {
   "cell_type": "markdown",
   "id": "f7a59586-e450-42ac-8cb5-58cdd2c865b4",
   "metadata": {},
   "source": [
    "# Lambda Notation"
   ]
  },
  {
   "cell_type": "code",
   "execution_count": 5,
   "id": "836b3cc7-0369-4838-a139-bd3e48f401b5",
   "metadata": {},
   "outputs": [
    {
     "data": {
      "text/plain": [
       "28"
      ]
     },
     "execution_count": 5,
     "metadata": {},
     "output_type": "execute_result"
    }
   ],
   "source": [
    "apply(lambda z: z * 4, 7)"
   ]
  },
  {
   "cell_type": "markdown",
   "id": "da4521d7-8540-426e-9b04-6411dd7e8824",
   "metadata": {},
   "source": [
    "# Default Values for Arguments"
   ]
  },
  {
   "cell_type": "code",
   "execution_count": 6,
   "id": "f45ce431-0d69-475e-8fd1-937e459bf0c4",
   "metadata": {},
   "outputs": [],
   "source": [
    "def myfun(b, c=3, d='hello'):\n",
    "    return b + c"
   ]
  },
  {
   "cell_type": "code",
   "execution_count": 7,
   "id": "2ecd2379-d637-4627-b1d8-729714711f5f",
   "metadata": {},
   "outputs": [
    {
     "data": {
      "text/plain": [
       "8"
      ]
     },
     "execution_count": 7,
     "metadata": {},
     "output_type": "execute_result"
    }
   ],
   "source": [
    "myfun(5, 3, 'hello')"
   ]
  },
  {
   "cell_type": "code",
   "execution_count": 8,
   "id": "2719f974-4fbc-4aee-a72a-987737b21e0a",
   "metadata": {},
   "outputs": [
    {
     "data": {
      "text/plain": [
       "8"
      ]
     },
     "execution_count": 8,
     "metadata": {},
     "output_type": "execute_result"
    }
   ],
   "source": [
    "myfun(5, 3)"
   ]
  },
  {
   "cell_type": "code",
   "execution_count": 9,
   "id": "0cb925e8-50ba-4539-b34c-96bf13c47094",
   "metadata": {},
   "outputs": [
    {
     "data": {
      "text/plain": [
       "8"
      ]
     },
     "execution_count": 9,
     "metadata": {},
     "output_type": "execute_result"
    }
   ],
   "source": [
    "myfun(5)"
   ]
  },
  {
   "cell_type": "markdown",
   "id": "047b5a23-7441-4b59-b913-970a23eab42e",
   "metadata": {},
   "source": [
    "# Keyword Arguments"
   ]
  },
  {
   "cell_type": "code",
   "execution_count": 10,
   "id": "274d6dba-9c23-4508-a91e-76384b535ddb",
   "metadata": {},
   "outputs": [],
   "source": [
    "def myfun(a, b, c):\n",
    "    return a - b"
   ]
  },
  {
   "cell_type": "code",
   "execution_count": 11,
   "id": "4bce5012-0165-475f-bbc2-ed28b7819620",
   "metadata": {},
   "outputs": [
    {
     "data": {
      "text/plain": [
       "1"
      ]
     },
     "execution_count": 11,
     "metadata": {},
     "output_type": "execute_result"
    }
   ],
   "source": [
    "myfun(2, 1, 43)"
   ]
  },
  {
   "cell_type": "code",
   "execution_count": 12,
   "id": "580a0ac2-090e-437a-bdeb-cfceaf641c4f",
   "metadata": {},
   "outputs": [
    {
     "data": {
      "text/plain": [
       "1"
      ]
     },
     "execution_count": 12,
     "metadata": {},
     "output_type": "execute_result"
    }
   ],
   "source": [
    "myfun(c=43, b=1, a=2)"
   ]
  },
  {
   "cell_type": "code",
   "execution_count": 13,
   "id": "bd0aeb51-b6b3-4cc5-bc53-e15c4555f8d4",
   "metadata": {},
   "outputs": [
    {
     "data": {
      "text/plain": [
       "1"
      ]
     },
     "execution_count": 13,
     "metadata": {},
     "output_type": "execute_result"
    }
   ],
   "source": [
    "myfun(2, c=43, b=1)"
   ]
  },
  {
   "cell_type": "code",
   "execution_count": null,
   "id": "66095c95-3080-4eb2-bf37-77ce96b398fb",
   "metadata": {},
   "outputs": [],
   "source": []
  }
 ],
 "metadata": {
  "kernelspec": {
   "display_name": "Python 3",
   "language": "python",
   "name": "python3"
  },
  "language_info": {
   "codemirror_mode": {
    "name": "ipython",
    "version": 3
   },
   "file_extension": ".py",
   "mimetype": "text/x-python",
   "name": "python",
   "nbconvert_exporter": "python",
   "pygments_lexer": "ipython3",
   "version": "3.8.8"
  }
 },
 "nbformat": 4,
 "nbformat_minor": 5
}
