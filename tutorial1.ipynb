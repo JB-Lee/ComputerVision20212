{
 "cells": [
  {
   "cell_type": "code",
   "execution_count": 1,
   "id": "9a56719e-c614-46e5-a86b-6e5e1874b050",
   "metadata": {},
   "outputs": [],
   "source": [
    "x, y = 2, 3"
   ]
  },
  {
   "cell_type": "code",
   "execution_count": 2,
   "id": "ee9016be-900b-48a9-903c-3d9509b518dd",
   "metadata": {},
   "outputs": [
    {
     "data": {
      "text/plain": [
       "2"
      ]
     },
     "execution_count": 2,
     "metadata": {},
     "output_type": "execute_result"
    }
   ],
   "source": [
    "x"
   ]
  },
  {
   "cell_type": "code",
   "execution_count": 3,
   "id": "8668b74a-59c4-4f2e-bb7e-869eb0a4a97b",
   "metadata": {},
   "outputs": [
    {
     "data": {
      "text/plain": [
       "3"
      ]
     },
     "execution_count": 3,
     "metadata": {},
     "output_type": "execute_result"
    }
   ],
   "source": [
    "y"
   ]
  },
  {
   "cell_type": "markdown",
   "id": "f63b2fa0-634b-495f-af56-b6642ba28feb",
   "metadata": {},
   "source": [
    "# Sequence Types"
   ]
  },
  {
   "cell_type": "code",
   "execution_count": 4,
   "id": "df329e30-8951-4403-8a53-0d86390b83c7",
   "metadata": {},
   "outputs": [],
   "source": [
    "tu = (23, 'abc', 4.56, (2, 3), 'def')"
   ]
  },
  {
   "cell_type": "code",
   "execution_count": 5,
   "id": "8565472d-9cf6-4726-914d-4244b88637eb",
   "metadata": {},
   "outputs": [
    {
     "data": {
      "text/plain": [
       "23"
      ]
     },
     "execution_count": 5,
     "metadata": {},
     "output_type": "execute_result"
    }
   ],
   "source": [
    "tu[0]"
   ]
  },
  {
   "cell_type": "code",
   "execution_count": 6,
   "id": "d1d6fa2f-8a22-40be-9acc-b0b3a0eb4d43",
   "metadata": {},
   "outputs": [
    {
     "data": {
      "text/plain": [
       "'abc'"
      ]
     },
     "execution_count": 6,
     "metadata": {},
     "output_type": "execute_result"
    }
   ],
   "source": [
    "tu[1]"
   ]
  },
  {
   "cell_type": "code",
   "execution_count": 7,
   "id": "b56d4a07-0e84-4fd9-8275-e401d72c4336",
   "metadata": {},
   "outputs": [],
   "source": [
    "li = ['abc', 34, 4.34, 23]"
   ]
  },
  {
   "cell_type": "code",
   "execution_count": 8,
   "id": "beafb40c-4bd4-45a7-baca-3c158fb211be",
   "metadata": {},
   "outputs": [
    {
     "data": {
      "text/plain": [
       "'abc'"
      ]
     },
     "execution_count": 8,
     "metadata": {},
     "output_type": "execute_result"
    }
   ],
   "source": [
    "li[0]"
   ]
  },
  {
   "cell_type": "code",
   "execution_count": 9,
   "id": "ba811c4d-19cb-40c9-b927-e61f0a573c7d",
   "metadata": {},
   "outputs": [],
   "source": [
    "st = 'Hello World'"
   ]
  },
  {
   "cell_type": "code",
   "execution_count": 10,
   "id": "993c0db5-1a79-4222-8506-591269e5275a",
   "metadata": {},
   "outputs": [],
   "source": [
    "st = '''This is a multi-line string that uses triple quotes.'''"
   ]
  },
  {
   "cell_type": "code",
   "execution_count": 11,
   "id": "1c0d4bc2-8544-4d88-9b43-322ca49a1cc2",
   "metadata": {},
   "outputs": [
    {
     "data": {
      "text/plain": [
       "'This is a multi-line string that uses triple quotes.'"
      ]
     },
     "execution_count": 11,
     "metadata": {},
     "output_type": "execute_result"
    }
   ],
   "source": [
    "st"
   ]
  },
  {
   "cell_type": "code",
   "execution_count": 12,
   "id": "cb60d59c-eea1-44d8-b1d2-d77a71a4117a",
   "metadata": {},
   "outputs": [
    {
     "data": {
      "text/plain": [
       "'h'"
      ]
     },
     "execution_count": 12,
     "metadata": {},
     "output_type": "execute_result"
    }
   ],
   "source": [
    "st[1]"
   ]
  },
  {
   "cell_type": "code",
   "execution_count": 13,
   "id": "a8b212ae-6ebc-48d8-90dd-17de97db7418",
   "metadata": {},
   "outputs": [
    {
     "data": {
      "text/plain": [
       "4.56"
      ]
     },
     "execution_count": 13,
     "metadata": {},
     "output_type": "execute_result"
    }
   ],
   "source": [
    "tu[-3]"
   ]
  },
  {
   "cell_type": "code",
   "execution_count": 14,
   "id": "85b0fc42-1cb2-4864-bb07-c59e51bc1c35",
   "metadata": {},
   "outputs": [
    {
     "data": {
      "text/plain": [
       "(23,)"
      ]
     },
     "execution_count": 14,
     "metadata": {},
     "output_type": "execute_result"
    }
   ],
   "source": [
    "tu[:1]"
   ]
  },
  {
   "cell_type": "code",
   "execution_count": 15,
   "id": "3926be6a-90e7-4d1a-9c82-fc21767abe33",
   "metadata": {},
   "outputs": [],
   "source": [
    "li = [\"abc\", 34, 4.34, 23]"
   ]
  },
  {
   "cell_type": "code",
   "execution_count": 16,
   "id": "a648f493-1122-43bd-afbe-e1820831186e",
   "metadata": {},
   "outputs": [
    {
     "data": {
      "text/plain": [
       "'abc'"
      ]
     },
     "execution_count": 16,
     "metadata": {},
     "output_type": "execute_result"
    }
   ],
   "source": [
    "li[0]"
   ]
  },
  {
   "cell_type": "code",
   "execution_count": 17,
   "id": "7f560cd4-652e-46f8-ba2d-f7b54fcc62c5",
   "metadata": {},
   "outputs": [
    {
     "data": {
      "text/plain": [
       "34"
      ]
     },
     "execution_count": 17,
     "metadata": {},
     "output_type": "execute_result"
    }
   ],
   "source": [
    "li[1]"
   ]
  },
  {
   "cell_type": "code",
   "execution_count": 18,
   "id": "371ec1bf-2dcc-4280-ae29-07d2af58d802",
   "metadata": {},
   "outputs": [
    {
     "data": {
      "text/plain": [
       "4.34"
      ]
     },
     "execution_count": 18,
     "metadata": {},
     "output_type": "execute_result"
    }
   ],
   "source": [
    "li[2]"
   ]
  },
  {
   "cell_type": "code",
   "execution_count": 19,
   "id": "b00e4459-2d9c-4d4b-9741-c1f3014ddad4",
   "metadata": {},
   "outputs": [],
   "source": [
    "st = '''This is a multi-line\n",
    "string that uses triple quotes.'''"
   ]
  },
  {
   "cell_type": "code",
   "execution_count": 20,
   "id": "510b1898-300f-4f56-8f4c-588dbcea4e91",
   "metadata": {},
   "outputs": [
    {
     "name": "stdout",
     "output_type": "stream",
     "text": [
      "This is a multi-line\n",
      "string that uses triple quotes.\n"
     ]
    }
   ],
   "source": [
    "print(st)"
   ]
  },
  {
   "cell_type": "markdown",
   "id": "3f7b9558-a91e-48cd-b239-de4b560e9401",
   "metadata": {},
   "source": [
    "# Negative indicies"
   ]
  },
  {
   "cell_type": "code",
   "execution_count": 21,
   "id": "ff6d5e1b-de0b-42b3-9b7e-0f3e8d324b18",
   "metadata": {},
   "outputs": [
    {
     "data": {
      "text/plain": [
       "4.34"
      ]
     },
     "execution_count": 21,
     "metadata": {},
     "output_type": "execute_result"
    }
   ],
   "source": [
    "li[-2]"
   ]
  },
  {
   "cell_type": "code",
   "execution_count": 22,
   "id": "11a32465-1eec-4ee9-a0f6-f84a188a55f6",
   "metadata": {},
   "outputs": [
    {
     "data": {
      "text/plain": [
       "'def'"
      ]
     },
     "execution_count": 22,
     "metadata": {},
     "output_type": "execute_result"
    }
   ],
   "source": [
    "tu[-1]"
   ]
  },
  {
   "cell_type": "markdown",
   "id": "766acdfa-7aca-414e-bca6-f45dd7103e47",
   "metadata": {},
   "source": [
    "# Slicing"
   ]
  },
  {
   "cell_type": "code",
   "execution_count": 23,
   "id": "a95ccbfc-2d3b-49a0-a291-cef99400cfec",
   "metadata": {},
   "outputs": [
    {
     "data": {
      "text/plain": [
       "('abc', 4.56, (2, 3))"
      ]
     },
     "execution_count": 23,
     "metadata": {},
     "output_type": "execute_result"
    }
   ],
   "source": [
    "tu[1:4]"
   ]
  },
  {
   "cell_type": "code",
   "execution_count": 24,
   "id": "572d0b94-818f-426f-99df-1ebb1ee35aae",
   "metadata": {},
   "outputs": [
    {
     "data": {
      "text/plain": [
       "('abc', 4.56, (2, 3))"
      ]
     },
     "execution_count": 24,
     "metadata": {},
     "output_type": "execute_result"
    }
   ],
   "source": [
    "tu[1:-1]"
   ]
  },
  {
   "cell_type": "code",
   "execution_count": 25,
   "id": "c4b8cbff-bc10-4f59-bbb4-82ae777c1663",
   "metadata": {},
   "outputs": [
    {
     "data": {
      "text/plain": [
       "('abc', (2, 3))"
      ]
     },
     "execution_count": 25,
     "metadata": {},
     "output_type": "execute_result"
    }
   ],
   "source": [
    "tu[1:4:2]"
   ]
  },
  {
   "cell_type": "code",
   "execution_count": 26,
   "id": "2b27dbd0-225d-4fa8-9969-4b523b6d7897",
   "metadata": {},
   "outputs": [
    {
     "data": {
      "text/plain": [
       "(23, 'abc', 4.56, (2, 3))"
      ]
     },
     "execution_count": 26,
     "metadata": {},
     "output_type": "execute_result"
    }
   ],
   "source": [
    "tu[:4] "
   ]
  },
  {
   "cell_type": "code",
   "execution_count": 27,
   "id": "c1b5d7f1-7437-48ac-967b-fa39b881e733",
   "metadata": {},
   "outputs": [
    {
     "data": {
      "text/plain": [
       "(4.56, (2, 3), 'def')"
      ]
     },
     "execution_count": 27,
     "metadata": {},
     "output_type": "execute_result"
    }
   ],
   "source": [
    "tu[2:]"
   ]
  },
  {
   "cell_type": "code",
   "execution_count": 28,
   "id": "cb9f79ec-94b2-4e02-af05-09d0ed7419c9",
   "metadata": {},
   "outputs": [
    {
     "data": {
      "text/plain": [
       "(23, 'abc', 4.56, (2, 3), 'def')"
      ]
     },
     "execution_count": 28,
     "metadata": {},
     "output_type": "execute_result"
    }
   ],
   "source": [
    "tu[:]"
   ]
  },
  {
   "cell_type": "markdown",
   "id": "fc0f1f8f-b638-4335-9465-870049576685",
   "metadata": {},
   "source": [
    "# Copying the Whole Sequence"
   ]
  },
  {
   "cell_type": "code",
   "execution_count": 29,
   "id": "f70c8947-4acb-4c4d-af87-d3453616cd03",
   "metadata": {},
   "outputs": [],
   "source": [
    "li1 = li2 = list(tu)"
   ]
  },
  {
   "cell_type": "code",
   "execution_count": 30,
   "id": "08bed7da-263e-4643-9518-54d016741abc",
   "metadata": {},
   "outputs": [
    {
     "data": {
      "text/plain": [
       "[23, 'abc', 4.56, (2, 3), 'def']"
      ]
     },
     "execution_count": 30,
     "metadata": {},
     "output_type": "execute_result"
    }
   ],
   "source": [
    "li1"
   ]
  },
  {
   "cell_type": "code",
   "execution_count": 31,
   "id": "fa133f94-1eb4-4992-b6a4-3caf9d033864",
   "metadata": {},
   "outputs": [],
   "source": [
    "li1[0] = 25"
   ]
  },
  {
   "cell_type": "code",
   "execution_count": 32,
   "id": "c0d47f81-3064-4a6e-8a2c-b99aeed3c046",
   "metadata": {},
   "outputs": [
    {
     "data": {
      "text/plain": [
       "[25, 'abc', 4.56, (2, 3), 'def']"
      ]
     },
     "execution_count": 32,
     "metadata": {},
     "output_type": "execute_result"
    }
   ],
   "source": [
    "li1"
   ]
  },
  {
   "cell_type": "code",
   "execution_count": 33,
   "id": "24750ddc-4feb-4fae-977b-52e9c0d5d728",
   "metadata": {},
   "outputs": [
    {
     "data": {
      "text/plain": [
       "[25, 'abc', 4.56, (2, 3), 'def']"
      ]
     },
     "execution_count": 33,
     "metadata": {},
     "output_type": "execute_result"
    }
   ],
   "source": [
    "li2"
   ]
  },
  {
   "cell_type": "code",
   "execution_count": 34,
   "id": "0644b6c4-6392-4d19-8d6a-e3c3f2e06833",
   "metadata": {},
   "outputs": [
    {
     "data": {
      "text/plain": [
       "([25, 2, 4.56, (2, 3), 'def'], [25, 'abc', 4.56, (2, 3), 'def'])"
      ]
     },
     "execution_count": 34,
     "metadata": {},
     "output_type": "execute_result"
    }
   ],
   "source": [
    "li3 = li1[:]\n",
    "li1[1] = 2\n",
    "li1, li3"
   ]
  },
  {
   "cell_type": "markdown",
   "id": "2b4e67ca-2a04-45b4-8e06-17baf39a2b45",
   "metadata": {},
   "source": [
    "# The in Operator"
   ]
  },
  {
   "cell_type": "code",
   "execution_count": 35,
   "id": "a00e32c4-5a1d-4538-9b26-781783700ed2",
   "metadata": {},
   "outputs": [
    {
     "data": {
      "text/plain": [
       "False"
      ]
     },
     "execution_count": 35,
     "metadata": {},
     "output_type": "execute_result"
    }
   ],
   "source": [
    "t = [1, 2, 4, 5]\n",
    "3 in t"
   ]
  },
  {
   "cell_type": "code",
   "execution_count": 36,
   "id": "342c1bea-3a1b-404e-8d33-6dd41774a726",
   "metadata": {},
   "outputs": [
    {
     "data": {
      "text/plain": [
       "True"
      ]
     },
     "execution_count": 36,
     "metadata": {},
     "output_type": "execute_result"
    }
   ],
   "source": [
    "4 in t"
   ]
  },
  {
   "cell_type": "code",
   "execution_count": 37,
   "id": "477d9938-2b63-424d-a607-a435940b71c2",
   "metadata": {},
   "outputs": [
    {
     "data": {
      "text/plain": [
       "False"
      ]
     },
     "execution_count": 37,
     "metadata": {},
     "output_type": "execute_result"
    }
   ],
   "source": [
    "4 not in t"
   ]
  },
  {
   "cell_type": "code",
   "execution_count": 38,
   "id": "b381f68e-8184-482f-abd7-67b208b8278a",
   "metadata": {},
   "outputs": [],
   "source": [
    "a = 'abcde'"
   ]
  },
  {
   "cell_type": "code",
   "execution_count": 39,
   "id": "e1a6f18e-06c4-44aa-a832-c7966d79f54d",
   "metadata": {},
   "outputs": [
    {
     "data": {
      "text/plain": [
       "True"
      ]
     },
     "execution_count": 39,
     "metadata": {},
     "output_type": "execute_result"
    }
   ],
   "source": [
    "'c' in a"
   ]
  },
  {
   "cell_type": "code",
   "execution_count": 40,
   "id": "6898cdb0-a845-4a57-94a7-0261f45a360b",
   "metadata": {},
   "outputs": [
    {
     "data": {
      "text/plain": [
       "True"
      ]
     },
     "execution_count": 40,
     "metadata": {},
     "output_type": "execute_result"
    }
   ],
   "source": [
    "'cd' in a"
   ]
  },
  {
   "cell_type": "code",
   "execution_count": 41,
   "id": "e390eadd-5bf6-42c6-8774-6c270d6f3f72",
   "metadata": {},
   "outputs": [
    {
     "data": {
      "text/plain": [
       "False"
      ]
     },
     "execution_count": 41,
     "metadata": {},
     "output_type": "execute_result"
    }
   ],
   "source": [
    "'ac' in a"
   ]
  },
  {
   "cell_type": "markdown",
   "id": "248c7bdc-1d35-42fa-9cc9-d8cddfdca260",
   "metadata": {},
   "source": [
    "# The + Operator"
   ]
  },
  {
   "cell_type": "code",
   "execution_count": 42,
   "id": "2dabce19-2180-448e-91ed-40821f3a2bd1",
   "metadata": {},
   "outputs": [
    {
     "data": {
      "text/plain": [
       "(1, 2, 3, 4, 5, 6)"
      ]
     },
     "execution_count": 42,
     "metadata": {},
     "output_type": "execute_result"
    }
   ],
   "source": [
    "(1, 2, 3) + (4, 5, 6)"
   ]
  },
  {
   "cell_type": "code",
   "execution_count": 43,
   "id": "11b556d8-e5b4-4dc4-b419-dc77c75287da",
   "metadata": {},
   "outputs": [
    {
     "data": {
      "text/plain": [
       "[1, 2, 3, 4, 5, 6]"
      ]
     },
     "execution_count": 43,
     "metadata": {},
     "output_type": "execute_result"
    }
   ],
   "source": [
    "[1, 2, 3] + [4, 5, 6]"
   ]
  },
  {
   "cell_type": "code",
   "execution_count": 44,
   "id": "57822b7e-20bc-4b7b-9944-c570d1b497b8",
   "metadata": {},
   "outputs": [
    {
     "data": {
      "text/plain": [
       "'Hello World'"
      ]
     },
     "execution_count": 44,
     "metadata": {},
     "output_type": "execute_result"
    }
   ],
   "source": [
    "'Hello' + ' ' + 'World'"
   ]
  },
  {
   "cell_type": "code",
   "execution_count": null,
   "id": "91de99d1-9215-46ed-b297-0396bcb03c9b",
   "metadata": {},
   "outputs": [],
   "source": []
  },
  {
   "cell_type": "code",
   "execution_count": null,
   "id": "d6a48dfa-0804-4e5e-b48a-864c2a45138b",
   "metadata": {},
   "outputs": [],
   "source": []
  }
 ],
 "metadata": {
  "kernelspec": {
   "display_name": "Python 3",
   "language": "python",
   "name": "python3"
  },
  "language_info": {
   "codemirror_mode": {
    "name": "ipython",
    "version": 3
   },
   "file_extension": ".py",
   "mimetype": "text/x-python",
   "name": "python",
   "nbconvert_exporter": "python",
   "pygments_lexer": "ipython3",
   "version": "3.8.8"
  }
 },
 "nbformat": 4,
 "nbformat_minor": 5
}
