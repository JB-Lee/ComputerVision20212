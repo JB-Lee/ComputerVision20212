{
 "cells": [
  {
   "cell_type": "markdown",
   "id": "f63b2fa0-634b-495f-af56-b6642ba28feb",
   "metadata": {},
   "source": [
    "# Sequence Types 2"
   ]
  },
  {
   "cell_type": "code",
   "execution_count": 2,
   "id": "9a56719e-c614-46e5-a86b-6e5e1874b050",
   "metadata": {},
   "outputs": [],
   "source": [
    "x, y = 2, 3"
   ]
  },
  {
   "cell_type": "code",
   "execution_count": 3,
   "id": "ee9016be-900b-48a9-903c-3d9509b518dd",
   "metadata": {},
   "outputs": [
    {
     "data": {
      "text/plain": [
       "2"
      ]
     },
     "execution_count": 3,
     "metadata": {},
     "output_type": "execute_result"
    }
   ],
   "source": [
    "x"
   ]
  },
  {
   "cell_type": "code",
   "execution_count": 4,
   "id": "8668b74a-59c4-4f2e-bb7e-869eb0a4a97b",
   "metadata": {},
   "outputs": [
    {
     "data": {
      "text/plain": [
       "3"
      ]
     },
     "execution_count": 4,
     "metadata": {},
     "output_type": "execute_result"
    }
   ],
   "source": [
    "y"
   ]
  },
  {
   "cell_type": "code",
   "execution_count": 6,
   "id": "df329e30-8951-4403-8a53-0d86390b83c7",
   "metadata": {},
   "outputs": [],
   "source": [
    "tu = (23, 'abc', 4.56, (2, 3), 'def')"
   ]
  },
  {
   "cell_type": "code",
   "execution_count": 7,
   "id": "8565472d-9cf6-4726-914d-4244b88637eb",
   "metadata": {},
   "outputs": [
    {
     "data": {
      "text/plain": [
       "23"
      ]
     },
     "execution_count": 7,
     "metadata": {},
     "output_type": "execute_result"
    }
   ],
   "source": [
    "tu[0]"
   ]
  },
  {
   "cell_type": "code",
   "execution_count": 8,
   "id": "d1d6fa2f-8a22-40be-9acc-b0b3a0eb4d43",
   "metadata": {},
   "outputs": [
    {
     "data": {
      "text/plain": [
       "'abc'"
      ]
     },
     "execution_count": 8,
     "metadata": {},
     "output_type": "execute_result"
    }
   ],
   "source": [
    "tu[1]"
   ]
  },
  {
   "cell_type": "code",
   "execution_count": 10,
   "id": "b56d4a07-0e84-4fd9-8275-e401d72c4336",
   "metadata": {},
   "outputs": [],
   "source": [
    "li = ['abc', 34, 4.34, 23]"
   ]
  },
  {
   "cell_type": "code",
   "execution_count": 11,
   "id": "beafb40c-4bd4-45a7-baca-3c158fb211be",
   "metadata": {},
   "outputs": [
    {
     "data": {
      "text/plain": [
       "'abc'"
      ]
     },
     "execution_count": 11,
     "metadata": {},
     "output_type": "execute_result"
    }
   ],
   "source": [
    "li[0]"
   ]
  },
  {
   "cell_type": "code",
   "execution_count": 12,
   "id": "ba811c4d-19cb-40c9-b927-e61f0a573c7d",
   "metadata": {},
   "outputs": [],
   "source": [
    "st = 'Hello World'"
   ]
  },
  {
   "cell_type": "code",
   "execution_count": 13,
   "id": "993c0db5-1a79-4222-8506-591269e5275a",
   "metadata": {},
   "outputs": [],
   "source": [
    "st = '''This is a multi-line string that uses triple quotes.'''"
   ]
  },
  {
   "cell_type": "code",
   "execution_count": 14,
   "id": "1c0d4bc2-8544-4d88-9b43-322ca49a1cc2",
   "metadata": {},
   "outputs": [
    {
     "data": {
      "text/plain": [
       "'This is a multi-line string that uses triple quotes.'"
      ]
     },
     "execution_count": 14,
     "metadata": {},
     "output_type": "execute_result"
    }
   ],
   "source": [
    "st"
   ]
  },
  {
   "cell_type": "code",
   "execution_count": 15,
   "id": "cb60d59c-eea1-44d8-b1d2-d77a71a4117a",
   "metadata": {},
   "outputs": [
    {
     "data": {
      "text/plain": [
       "'h'"
      ]
     },
     "execution_count": 15,
     "metadata": {},
     "output_type": "execute_result"
    }
   ],
   "source": [
    "st[1]"
   ]
  },
  {
   "cell_type": "code",
   "execution_count": 16,
   "id": "a8b212ae-6ebc-48d8-90dd-17de97db7418",
   "metadata": {},
   "outputs": [
    {
     "data": {
      "text/plain": [
       "4.56"
      ]
     },
     "execution_count": 16,
     "metadata": {},
     "output_type": "execute_result"
    }
   ],
   "source": [
    "tu[-3]"
   ]
  },
  {
   "cell_type": "code",
   "execution_count": 17,
   "id": "85b0fc42-1cb2-4864-bb07-c59e51bc1c35",
   "metadata": {},
   "outputs": [
    {
     "data": {
      "text/plain": [
       "(23,)"
      ]
     },
     "execution_count": 17,
     "metadata": {},
     "output_type": "execute_result"
    }
   ],
   "source": [
    "tu[:1]"
   ]
  },
  {
   "cell_type": "code",
   "execution_count": 19,
   "id": "3926be6a-90e7-4d1a-9c82-fc21767abe33",
   "metadata": {},
   "outputs": [],
   "source": [
    "li = [\"abc\", 34, 4.34, 23]"
   ]
  },
  {
   "cell_type": "code",
   "execution_count": 20,
   "id": "a648f493-1122-43bd-afbe-e1820831186e",
   "metadata": {},
   "outputs": [
    {
     "data": {
      "text/plain": [
       "'abc'"
      ]
     },
     "execution_count": 20,
     "metadata": {},
     "output_type": "execute_result"
    }
   ],
   "source": [
    "li[0]"
   ]
  },
  {
   "cell_type": "code",
   "execution_count": 21,
   "id": "7f560cd4-652e-46f8-ba2d-f7b54fcc62c5",
   "metadata": {},
   "outputs": [
    {
     "data": {
      "text/plain": [
       "34"
      ]
     },
     "execution_count": 21,
     "metadata": {},
     "output_type": "execute_result"
    }
   ],
   "source": [
    "li[1]"
   ]
  },
  {
   "cell_type": "code",
   "execution_count": 22,
   "id": "371ec1bf-2dcc-4280-ae29-07d2af58d802",
   "metadata": {},
   "outputs": [
    {
     "data": {
      "text/plain": [
       "4.34"
      ]
     },
     "execution_count": 22,
     "metadata": {},
     "output_type": "execute_result"
    }
   ],
   "source": [
    "li[2]"
   ]
  },
  {
   "cell_type": "code",
   "execution_count": 26,
   "id": "b00e4459-2d9c-4d4b-9741-c1f3014ddad4",
   "metadata": {},
   "outputs": [],
   "source": [
    "st = '''This is a multi-line\n",
    "string that uses triple quotes.'''"
   ]
  },
  {
   "cell_type": "code",
   "execution_count": 28,
   "id": "510b1898-300f-4f56-8f4c-588dbcea4e91",
   "metadata": {},
   "outputs": [
    {
     "name": "stdout",
     "output_type": "stream",
     "text": [
      "This is a multi-line\n",
      "string that uses triple quotes.\n"
     ]
    }
   ],
   "source": [
    "print(st)"
   ]
  },
  {
   "cell_type": "code",
   "execution_count": 30,
   "id": "ff6d5e1b-de0b-42b3-9b7e-0f3e8d324b18",
   "metadata": {},
   "outputs": [
    {
     "data": {
      "text/plain": [
       "4.34"
      ]
     },
     "execution_count": 30,
     "metadata": {},
     "output_type": "execute_result"
    }
   ],
   "source": [
    "li[-2]"
   ]
  },
  {
   "cell_type": "code",
   "execution_count": 36,
   "id": "11a32465-1eec-4ee9-a0f6-f84a188a55f6",
   "metadata": {},
   "outputs": [
    {
     "data": {
      "text/plain": [
       "'def'"
      ]
     },
     "execution_count": 36,
     "metadata": {},
     "output_type": "execute_result"
    }
   ],
   "source": [
    "tu[-1]"
   ]
  },
  {
   "cell_type": "code",
   "execution_count": 37,
   "id": "a95ccbfc-2d3b-49a0-a291-cef99400cfec",
   "metadata": {},
   "outputs": [
    {
     "data": {
      "text/plain": [
       "('abc', 4.56, (2, 3))"
      ]
     },
     "execution_count": 37,
     "metadata": {},
     "output_type": "execute_result"
    }
   ],
   "source": [
    "tu[1:4]"
   ]
  },
  {
   "cell_type": "code",
   "execution_count": 38,
   "id": "572d0b94-818f-426f-99df-1ebb1ee35aae",
   "metadata": {},
   "outputs": [
    {
     "data": {
      "text/plain": [
       "('abc', 4.56, (2, 3))"
      ]
     },
     "execution_count": 38,
     "metadata": {},
     "output_type": "execute_result"
    }
   ],
   "source": [
    "tu[1:-1]"
   ]
  },
  {
   "cell_type": "code",
   "execution_count": 39,
   "id": "c4b8cbff-bc10-4f59-bbb4-82ae777c1663",
   "metadata": {},
   "outputs": [
    {
     "data": {
      "text/plain": [
       "('abc', (2, 3))"
      ]
     },
     "execution_count": 39,
     "metadata": {},
     "output_type": "execute_result"
    }
   ],
   "source": [
    "tu[1:4:2]"
   ]
  },
  {
   "cell_type": "code",
   "execution_count": 42,
   "id": "2b27dbd0-225d-4fa8-9969-4b523b6d7897",
   "metadata": {},
   "outputs": [
    {
     "data": {
      "text/plain": [
       "(23, 'abc', 4.56, (2, 3))"
      ]
     },
     "execution_count": 42,
     "metadata": {},
     "output_type": "execute_result"
    }
   ],
   "source": [
    "tu[:4] "
   ]
  },
  {
   "cell_type": "code",
   "execution_count": 43,
   "id": "c1b5d7f1-7437-48ac-967b-fa39b881e733",
   "metadata": {},
   "outputs": [
    {
     "data": {
      "text/plain": [
       "(4.56, (2, 3), 'def')"
      ]
     },
     "execution_count": 43,
     "metadata": {},
     "output_type": "execute_result"
    }
   ],
   "source": [
    "tu[2:]"
   ]
  },
  {
   "cell_type": "code",
   "execution_count": 44,
   "id": "cb9f79ec-94b2-4e02-af05-09d0ed7419c9",
   "metadata": {},
   "outputs": [
    {
     "data": {
      "text/plain": [
       "(23, 'abc', 4.56, (2, 3), 'def')"
      ]
     },
     "execution_count": 44,
     "metadata": {},
     "output_type": "execute_result"
    }
   ],
   "source": [
    "tu[:]"
   ]
  },
  {
   "cell_type": "code",
   "execution_count": 49,
   "id": "f70c8947-4acb-4c4d-af87-d3453616cd03",
   "metadata": {},
   "outputs": [],
   "source": [
    "li1 = li2 = list(tu)"
   ]
  },
  {
   "cell_type": "code",
   "execution_count": 50,
   "id": "08bed7da-263e-4643-9518-54d016741abc",
   "metadata": {},
   "outputs": [
    {
     "data": {
      "text/plain": [
       "[23, 'abc', 4.56, (2, 3), 'def']"
      ]
     },
     "execution_count": 50,
     "metadata": {},
     "output_type": "execute_result"
    }
   ],
   "source": [
    "li1"
   ]
  },
  {
   "cell_type": "code",
   "execution_count": 51,
   "id": "fa133f94-1eb4-4992-b6a4-3caf9d033864",
   "metadata": {},
   "outputs": [],
   "source": [
    "li1[0] = 25"
   ]
  },
  {
   "cell_type": "code",
   "execution_count": 52,
   "id": "c0d47f81-3064-4a6e-8a2c-b99aeed3c046",
   "metadata": {},
   "outputs": [
    {
     "data": {
      "text/plain": [
       "[25, 'abc', 4.56, (2, 3), 'def']"
      ]
     },
     "execution_count": 52,
     "metadata": {},
     "output_type": "execute_result"
    }
   ],
   "source": [
    "li1"
   ]
  },
  {
   "cell_type": "code",
   "execution_count": 53,
   "id": "24750ddc-4feb-4fae-977b-52e9c0d5d728",
   "metadata": {},
   "outputs": [
    {
     "data": {
      "text/plain": [
       "[25, 'abc', 4.56, (2, 3), 'def']"
      ]
     },
     "execution_count": 53,
     "metadata": {},
     "output_type": "execute_result"
    }
   ],
   "source": [
    "li2"
   ]
  },
  {
   "cell_type": "code",
   "execution_count": null,
   "id": "a00e32c4-5a1d-4538-9b26-781783700ed2",
   "metadata": {},
   "outputs": [],
   "source": []
  }
 ],
 "metadata": {
  "kernelspec": {
   "display_name": "Python 3",
   "language": "python",
   "name": "python3"
  },
  "language_info": {
   "codemirror_mode": {
    "name": "ipython",
    "version": 3
   },
   "file_extension": ".py",
   "mimetype": "text/x-python",
   "name": "python",
   "nbconvert_exporter": "python",
   "pygments_lexer": "ipython3",
   "version": "3.8.8"
  }
 },
 "nbformat": 4,
 "nbformat_minor": 5
}
