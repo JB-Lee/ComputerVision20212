{
 "cells": [
  {
   "cell_type": "markdown",
   "id": "022df722-cadc-4827-a0f8-7832012fb973",
   "metadata": {},
   "source": [
    "# For Loops"
   ]
  },
  {
   "cell_type": "code",
   "execution_count": 1,
   "id": "400c139f-b54f-4a5d-9dad-068d684bc735",
   "metadata": {},
   "outputs": [
    {
     "name": "stdout",
     "output_type": "stream",
     "text": [
      "H\n",
      "e\n",
      "l\n",
      "l\n",
      "o\n",
      " \n",
      "W\n",
      "o\n",
      "r\n",
      "l\n",
      "d\n"
     ]
    }
   ],
   "source": [
    "for someChar in 'Hello World':\n",
    "    print(someChar)"
   ]
  },
  {
   "cell_type": "code",
   "execution_count": 2,
   "id": "2cc005df-3d61-445a-9b94-3b9cefaecae8",
   "metadata": {},
   "outputs": [
    {
     "name": "stdout",
     "output_type": "stream",
     "text": [
      "1 1\n",
      "2 2\n",
      "3 3\n"
     ]
    }
   ],
   "source": [
    "for (x, y) in [(1, 1), (2, 2), (3, 3)]:\n",
    "    print(x, y)"
   ]
  },
  {
   "cell_type": "markdown",
   "id": "68b33eb0-2a17-49f3-8c17-8501603b2bc6",
   "metadata": {},
   "source": [
    "# For loops and the range() function"
   ]
  },
  {
   "cell_type": "code",
   "execution_count": 3,
   "id": "0a8404da-5683-4900-acdd-98f5dfdfffca",
   "metadata": {},
   "outputs": [
    {
     "name": "stdout",
     "output_type": "stream",
     "text": [
      "0\n",
      "1\n",
      "2\n",
      "3\n",
      "4\n"
     ]
    }
   ],
   "source": [
    "for x in range(5):\n",
    "    print(x)"
   ]
  },
  {
   "cell_type": "markdown",
   "id": "90e53e43-c763-44f4-b09c-de19ecc05041",
   "metadata": {},
   "source": [
    "# Enumerate function"
   ]
  },
  {
   "cell_type": "code",
   "execution_count": 6,
   "id": "02988030-5c2c-4fa8-a59d-6ee0ba878bbb",
   "metadata": {},
   "outputs": [
    {
     "name": "stdout",
     "output_type": "stream",
     "text": [
      "0 H\n",
      "1 e\n",
      "2 l\n",
      "3 l\n",
      "4 o\n"
     ]
    }
   ],
   "source": [
    "for (i, item) in enumerate('Hello'):\n",
    "    print(i, item)"
   ]
  },
  {
   "cell_type": "code",
   "execution_count": null,
   "id": "5a75a48c-b137-42d4-9591-0f417aec932c",
   "metadata": {},
   "outputs": [],
   "source": []
  }
 ],
 "metadata": {
  "kernelspec": {
   "display_name": "Python 3",
   "language": "python",
   "name": "python3"
  },
  "language_info": {
   "codemirror_mode": {
    "name": "ipython",
    "version": 3
   },
   "file_extension": ".py",
   "mimetype": "text/x-python",
   "name": "python",
   "nbconvert_exporter": "python",
   "pygments_lexer": "ipython3",
   "version": "3.8.8"
  }
 },
 "nbformat": 4,
 "nbformat_minor": 5
}
