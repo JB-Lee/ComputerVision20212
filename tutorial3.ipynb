{
 "cells": [
  {
   "cell_type": "markdown",
   "id": "806feb61-85d2-4023-a6be-c29b0e3e4b97",
   "metadata": {},
   "source": [
    "# Creating and accessing dictionaries"
   ]
  },
  {
   "cell_type": "code",
   "execution_count": 1,
   "id": "3bb5f282-0c0d-4a83-9ea8-9e4e907c4056",
   "metadata": {},
   "outputs": [],
   "source": [
    "d = {'user': 'bozo', 'pswd': 1234}"
   ]
  },
  {
   "cell_type": "code",
   "execution_count": 2,
   "id": "bc5bed69-01ab-4a84-b93e-0562e8f92f60",
   "metadata": {},
   "outputs": [
    {
     "data": {
      "text/plain": [
       "'bozo'"
      ]
     },
     "execution_count": 2,
     "metadata": {},
     "output_type": "execute_result"
    }
   ],
   "source": [
    "d['user']"
   ]
  },
  {
   "cell_type": "code",
   "execution_count": 3,
   "id": "51c527a0-4652-4ed4-b0c6-2bd30d60237f",
   "metadata": {},
   "outputs": [
    {
     "data": {
      "text/plain": [
       "1234"
      ]
     },
     "execution_count": 3,
     "metadata": {},
     "output_type": "execute_result"
    }
   ],
   "source": [
    "d['pswd']"
   ]
  },
  {
   "cell_type": "code",
   "execution_count": 4,
   "id": "97a22c94-81d7-4e92-8a22-7b877cab96be",
   "metadata": {},
   "outputs": [
    {
     "ename": "KeyError",
     "evalue": "'bozo'",
     "output_type": "error",
     "traceback": [
      "\u001b[1;31m---------------------------------------------------------------------------\u001b[0m",
      "\u001b[1;31mKeyError\u001b[0m                                  Traceback (most recent call last)",
      "\u001b[1;32m<ipython-input-4-6355f0876eaa>\u001b[0m in \u001b[0;36m<module>\u001b[1;34m\u001b[0m\n\u001b[1;32m----> 1\u001b[1;33m \u001b[0md\u001b[0m\u001b[1;33m[\u001b[0m\u001b[1;34m'bozo'\u001b[0m\u001b[1;33m]\u001b[0m\u001b[1;33m\u001b[0m\u001b[1;33m\u001b[0m\u001b[0m\n\u001b[0m",
      "\u001b[1;31mKeyError\u001b[0m: 'bozo'"
     ]
    }
   ],
   "source": [
    "d['bozo']"
   ]
  },
  {
   "cell_type": "markdown",
   "id": "873148b7-c489-4f1f-b405-68b3c7518a65",
   "metadata": {},
   "source": [
    "# Updating Dictionaries"
   ]
  },
  {
   "cell_type": "code",
   "execution_count": 5,
   "id": "068f23c0-a031-4878-a1e7-0f3a80b5c40d",
   "metadata": {},
   "outputs": [],
   "source": [
    "d['user'] = 'clown'"
   ]
  },
  {
   "cell_type": "code",
   "execution_count": 6,
   "id": "fa7ae994-4756-472d-8186-13baef506151",
   "metadata": {},
   "outputs": [
    {
     "data": {
      "text/plain": [
       "{'user': 'clown', 'pswd': 1234}"
      ]
     },
     "execution_count": 6,
     "metadata": {},
     "output_type": "execute_result"
    }
   ],
   "source": [
    "d"
   ]
  },
  {
   "cell_type": "code",
   "execution_count": 7,
   "id": "ceb2566f-2448-4695-b922-0e65f309eace",
   "metadata": {},
   "outputs": [],
   "source": [
    "d['id'] = 45"
   ]
  },
  {
   "cell_type": "code",
   "execution_count": 8,
   "id": "e27d7860-5c19-448e-95c4-e4dffa75fe0d",
   "metadata": {},
   "outputs": [
    {
     "data": {
      "text/plain": [
       "{'user': 'clown', 'pswd': 1234, 'id': 45}"
      ]
     },
     "execution_count": 8,
     "metadata": {},
     "output_type": "execute_result"
    }
   ],
   "source": [
    "d"
   ]
  },
  {
   "cell_type": "markdown",
   "id": "752a73a9-4fb4-42e1-81fc-d3afb8b9e07d",
   "metadata": {},
   "source": [
    "# Removing dictionary entries"
   ]
  },
  {
   "cell_type": "code",
   "execution_count": 9,
   "id": "e3a4cd79-b750-4c5e-9ff7-ad2b78579ef3",
   "metadata": {},
   "outputs": [],
   "source": [
    "d = {'user': 'bozo', 'p': 1234, 'i': 34}"
   ]
  },
  {
   "cell_type": "code",
   "execution_count": 10,
   "id": "9363ae0f-bfc6-470a-a61b-2e994b00d12d",
   "metadata": {},
   "outputs": [],
   "source": [
    "del d['user']"
   ]
  },
  {
   "cell_type": "code",
   "execution_count": 11,
   "id": "7a0a3f1e-3380-43c3-ac64-f08feea415aa",
   "metadata": {},
   "outputs": [
    {
     "data": {
      "text/plain": [
       "{'p': 1234, 'i': 34}"
      ]
     },
     "execution_count": 11,
     "metadata": {},
     "output_type": "execute_result"
    }
   ],
   "source": [
    "d"
   ]
  },
  {
   "cell_type": "code",
   "execution_count": 12,
   "id": "1e08ba6c-ce12-4f48-a4f7-cb7df461bca8",
   "metadata": {},
   "outputs": [],
   "source": [
    "d.clear()"
   ]
  },
  {
   "cell_type": "code",
   "execution_count": 13,
   "id": "2ae2391a-6a7c-4f4a-ab25-6f03924606b2",
   "metadata": {},
   "outputs": [
    {
     "data": {
      "text/plain": [
       "{}"
      ]
     },
     "execution_count": 13,
     "metadata": {},
     "output_type": "execute_result"
    }
   ],
   "source": [
    "d"
   ]
  },
  {
   "cell_type": "code",
   "execution_count": 14,
   "id": "1eafc319-de3c-4c1c-8e57-333e8bf69fc6",
   "metadata": {},
   "outputs": [],
   "source": [
    "a = [1, 2]"
   ]
  },
  {
   "cell_type": "code",
   "execution_count": 15,
   "id": "9b76d20a-e53d-4e98-9c91-07a6fd4a9ae8",
   "metadata": {},
   "outputs": [],
   "source": [
    "del a[1]"
   ]
  },
  {
   "cell_type": "code",
   "execution_count": 16,
   "id": "4c58d1ea-d6b5-4985-9163-b9e060612983",
   "metadata": {},
   "outputs": [
    {
     "data": {
      "text/plain": [
       "[1]"
      ]
     },
     "execution_count": 16,
     "metadata": {},
     "output_type": "execute_result"
    }
   ],
   "source": [
    "a"
   ]
  },
  {
   "cell_type": "markdown",
   "id": "80655a0c-8358-409d-92cd-f4333587c56a",
   "metadata": {},
   "source": [
    "# Useful Accessor Methods"
   ]
  },
  {
   "cell_type": "code",
   "execution_count": 17,
   "id": "146ff852-65b7-42d9-a0be-67424a14dae6",
   "metadata": {},
   "outputs": [],
   "source": [
    "d = {'user': 'bozo', 'p': 1234, 'i': 34}"
   ]
  },
  {
   "cell_type": "code",
   "execution_count": 18,
   "id": "32273302-c34f-4484-bd42-1c7dedbc6ca3",
   "metadata": {},
   "outputs": [
    {
     "data": {
      "text/plain": [
       "dict_keys(['user', 'p', 'i'])"
      ]
     },
     "execution_count": 18,
     "metadata": {},
     "output_type": "execute_result"
    }
   ],
   "source": [
    "d.keys()"
   ]
  },
  {
   "cell_type": "code",
   "execution_count": 19,
   "id": "c6aa7597-004d-44fc-8fa2-3e55d5fb7ae5",
   "metadata": {},
   "outputs": [
    {
     "data": {
      "text/plain": [
       "dict_values(['bozo', 1234, 34])"
      ]
     },
     "execution_count": 19,
     "metadata": {},
     "output_type": "execute_result"
    }
   ],
   "source": [
    "d.values()"
   ]
  },
  {
   "cell_type": "code",
   "execution_count": 20,
   "id": "aea0a28f-f1ea-4ec8-b37c-5ad686e5df6f",
   "metadata": {},
   "outputs": [
    {
     "data": {
      "text/plain": [
       "dict_items([('user', 'bozo'), ('p', 1234), ('i', 34)])"
      ]
     },
     "execution_count": 20,
     "metadata": {},
     "output_type": "execute_result"
    }
   ],
   "source": [
    "d.items()"
   ]
  },
  {
   "cell_type": "code",
   "execution_count": null,
   "id": "073033da-a2b7-4189-96e5-a76983ee488f",
   "metadata": {},
   "outputs": [],
   "source": []
  }
 ],
 "metadata": {
  "kernelspec": {
   "display_name": "Python 3",
   "language": "python",
   "name": "python3"
  },
  "language_info": {
   "codemirror_mode": {
    "name": "ipython",
    "version": 3
   },
   "file_extension": ".py",
   "mimetype": "text/x-python",
   "name": "python",
   "nbconvert_exporter": "python",
   "pygments_lexer": "ipython3",
   "version": "3.8.8"
  }
 },
 "nbformat": 4,
 "nbformat_minor": 5
}
