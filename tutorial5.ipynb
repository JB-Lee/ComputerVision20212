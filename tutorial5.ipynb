{
 "cells": [
  {
   "cell_type": "markdown",
   "id": "2c73940f-152b-4bbe-9dd0-82d2d5588279",
   "metadata": {},
   "source": [
    "# if Statements"
   ]
  },
  {
   "cell_type": "code",
   "execution_count": 1,
   "id": "9f828e2a-6377-46fb-9664-b684caa24d98",
   "metadata": {},
   "outputs": [],
   "source": [
    "x = 3"
   ]
  },
  {
   "cell_type": "code",
   "execution_count": 2,
   "id": "6ce49875-3f47-4caa-ac3c-4df0ecfbfdcb",
   "metadata": {},
   "outputs": [
    {
     "name": "stdout",
     "output_type": "stream",
     "text": [
      "X equals 3.\n",
      "This is outside the 'if'.\n"
     ]
    }
   ],
   "source": [
    "if x == 3:\n",
    "    print(\"X equals 3.\")\n",
    "elif x == 2:\n",
    "    print(\"X equals 2.\")\n",
    "else:\n",
    "    print(\"X equals something else.\")\n",
    "print(\"This is outside the 'if'.\")"
   ]
  },
  {
   "cell_type": "markdown",
   "id": "10406747-443c-4181-b41e-2dba3e88ed60",
   "metadata": {},
   "source": [
    "# while Loops"
   ]
  },
  {
   "cell_type": "code",
   "execution_count": 3,
   "id": "0d5b9962-414e-462a-9e10-d64059e6ae59",
   "metadata": {},
   "outputs": [],
   "source": [
    "x = 3"
   ]
  },
  {
   "cell_type": "code",
   "execution_count": 4,
   "id": "de674b32-7650-4b69-9330-3b84b95474f5",
   "metadata": {},
   "outputs": [
    {
     "name": "stdout",
     "output_type": "stream",
     "text": [
      "3 Still in the loop\n",
      "4 Still in the loop\n"
     ]
    }
   ],
   "source": [
    "while x < 5:\n",
    "    print(f'{x} Still in the loop')\n",
    "    x = x+1"
   ]
  },
  {
   "cell_type": "code",
   "execution_count": 5,
   "id": "5684498e-dd48-4241-93fc-326dc602b234",
   "metadata": {},
   "outputs": [],
   "source": [
    "x = 6"
   ]
  },
  {
   "cell_type": "code",
   "execution_count": 7,
   "id": "0e853595-3d69-4f51-b6b6-77a9cc728cef",
   "metadata": {},
   "outputs": [],
   "source": [
    "while x < 5:\n",
    "    print(f'{x} Still in the loop')"
   ]
  },
  {
   "cell_type": "markdown",
   "id": "9de3fd4a-aacb-47e2-a289-4a45c5b74504",
   "metadata": {},
   "source": [
    "# assert"
   ]
  },
  {
   "cell_type": "code",
   "execution_count": 9,
   "id": "f1c3179a-52b9-4fc2-8135-9c99962d62a9",
   "metadata": {},
   "outputs": [],
   "source": [
    "assert(x < 7)"
   ]
  },
  {
   "cell_type": "code",
   "execution_count": null,
   "id": "2ed95f2b-0453-44c9-8e6b-9e141051414c",
   "metadata": {},
   "outputs": [],
   "source": []
  }
 ],
 "metadata": {
  "kernelspec": {
   "display_name": "Python 3",
   "language": "python",
   "name": "python3"
  },
  "language_info": {
   "codemirror_mode": {
    "name": "ipython",
    "version": 3
   },
   "file_extension": ".py",
   "mimetype": "text/x-python",
   "name": "python",
   "nbconvert_exporter": "python",
   "pygments_lexer": "ipython3",
   "version": "3.8.8"
  }
 },
 "nbformat": 4,
 "nbformat_minor": 5
}
