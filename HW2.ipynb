{
 "cells": [
  {
   "cell_type": "markdown",
   "id": "a98014ae-7625-400b-a518-e601d9845c50",
   "metadata": {},
   "source": [
    "## Homework 2"
   ]
  },
  {
   "cell_type": "code",
   "execution_count": 39,
   "id": "3db6b70a-99ed-4d82-90e1-b6abf5c7d6b3",
   "metadata": {},
   "outputs": [],
   "source": [
    "import cv2\n",
    "import colorsys"
   ]
  },
  {
   "cell_type": "code",
   "execution_count": 69,
   "id": "f6d78f9b-fac6-4720-8c0d-814b6ce2c86c",
   "metadata": {},
   "outputs": [],
   "source": [
    "def draw_bounding_box(img, x, y, w, h):\n",
    "    cv2.rectangle(img, (x, y), (x + w, y + h), (36,255,12), 2)\n",
    "    (tw, th), _ = cv2.getTextSize(' Object ', cv2.FONT_HERSHEY_SIMPLEX, 0.6, 1)\n",
    "    cv2.rectangle(img, (x, y - 30), (x + tw, y), (36,255,12), -1)\n",
    "    cv2.putText(img, ' Object ', (x, y-10), cv2.FONT_HERSHEY_SIMPLEX, 0.6, (0, 0, 0), 1)\n",
    "    \n",
    "def draw_color_indicator(img, bgr, x, y):\n",
    "    cv2.rectangle(img, (x, y), (x+30, y+30), bgr, -1)\n",
    "    (tw, th), _ = cv2.getTextSize(' target color ', cv2.FONT_HERSHEY_SIMPLEX, 0.6, 1)\n",
    "    cv2.rectangle(img, (x + 30, y), (x + tw + 30, y + 30), (255, 255, 255), -1)\n",
    "    cv2.putText(img, ' target color ', (x + 30, y + 20), cv2.FONT_HERSHEY_SIMPLEX, 0.6, (0, 0, 0), 1)"
   ]
  },
  {
   "cell_type": "code",
   "execution_count": 70,
   "id": "2b8c6658-4074-4140-8368-2b12054c8c59",
   "metadata": {},
   "outputs": [
    {
     "name": "stderr",
     "output_type": "stream",
     "text": [
      "[ WARN:0] global /private/var/folders/b7/g6qfbypj0tq32j5_trjh516r0000gn/T/pip-req-build-oqad5xi3/opencv/modules/highgui/src/window.cpp (704) createTrackbar UI/Trackbar(Hue@Frame): Using 'value' pointer is unsafe and deprecated. Use NULL as value pointer. To fetch trackbar value setup callback.\n",
      "[ WARN:0] global /private/var/folders/b7/g6qfbypj0tq32j5_trjh516r0000gn/T/pip-req-build-oqad5xi3/opencv/modules/highgui/src/window.cpp (704) createTrackbar UI/Trackbar(Saturation@Frame): Using 'value' pointer is unsafe and deprecated. Use NULL as value pointer. To fetch trackbar value setup callback.\n",
      "[ WARN:0] global /private/var/folders/b7/g6qfbypj0tq32j5_trjh516r0000gn/T/pip-req-build-oqad5xi3/opencv/modules/highgui/src/window.cpp (704) createTrackbar UI/Trackbar(Value@Frame): Using 'value' pointer is unsafe and deprecated. Use NULL as value pointer. To fetch trackbar value setup callback.\n",
      "[ WARN:0] global /private/var/folders/b7/g6qfbypj0tq32j5_trjh516r0000gn/T/pip-req-build-oqad5xi3/opencv/modules/highgui/src/window.cpp (704) createTrackbar UI/Trackbar(Threshold@Frame): Using 'value' pointer is unsafe and deprecated. Use NULL as value pointer. To fetch trackbar value setup callback.\n"
     ]
    },
    {
     "data": {
      "text/plain": [
       "-1"
      ]
     },
     "execution_count": 70,
     "metadata": {},
     "output_type": "execute_result"
    }
   ],
   "source": [
    "camera = cv2.VideoCapture(0)\n",
    "\n",
    "cv2.namedWindow('Frame')\n",
    "\n",
    "# 트랙바 선언\n",
    "cv2.createTrackbar('Hue', 'Frame', 0, 179, lambda x: x)\n",
    "cv2.createTrackbar('Saturation', 'Frame', 0, 255, lambda x: None)\n",
    "cv2.createTrackbar('Value', 'Frame', 0, 255, lambda x: None)\n",
    "cv2.createTrackbar('Threshold', 'Frame', 0, 255, lambda x: None)\n",
    "\n",
    "\n",
    "while True:\n",
    "    # grab the current frame\n",
    "    (grabbed, frame) = camera.read()\n",
    "    \n",
    "    # 영상이 끝나면 종료\n",
    "    if not grabbed:\n",
    "        break\n",
    "\n",
    "    blurred = cv2.GaussianBlur(frame, (11, 11), 0)\n",
    "    hsv = cv2.cvtColor(frame, cv2.COLOR_BGR2HSV)\n",
    "    \n",
    "    # 추출하려는 색상 가져오기\n",
    "    hue = cv2.getTrackbarPos('Hue','Frame')\n",
    "    saturation = cv2.getTrackbarPos('Saturation','Frame')\n",
    "    value = cv2.getTrackbarPos('Value','Frame')\n",
    "    threshold = cv2.getTrackbarPos('Threshold','Frame')\n",
    "    \n",
    "    # 색상을 BGR 형식으로 변경\n",
    "    rgb = colorsys.hsv_to_rgb(hue / 179., saturation / 255., value / 255.)\n",
    "    rgb = tuple(map(lambda x: x * 255, rgb))\n",
    "    bgr = (rgb[2], rgb[1], rgb[0])\n",
    "    \n",
    "    # 추출하려는 색상 표시\n",
    "    draw_color_indicator(frame, bgr, 20, 20)\n",
    "    \n",
    "    # 추출하려는 색상의 하한과 상한 지정\n",
    "    lower = (max(0, hue - threshold/2), max(0, saturation - threshold), max(0, value - threshold))\n",
    "    upper = (min(179, hue + threshold/2), min(255, saturation + threshold), min(255, value + threshold))\n",
    "    \n",
    "    # construct a mask for all colors in the current HSV range, then\n",
    "    # perform a series of dilations and erosions to remove any small\n",
    "    # blobs left in the mask\n",
    "    mask = cv2.inRange(hsv, lower, upper)\n",
    "    mask = cv2.erode(mask, None, iterations=2)\n",
    "    mask = cv2.dilate(mask, None, iterations=2)\n",
    "\n",
    "    # find contours in the mask\n",
    "    cnts = cv2.findContours(mask.copy(), cv2.RETR_EXTERNAL,\n",
    "    cv2.CHAIN_APPROX_SIMPLE)[0]\n",
    "\n",
    "\n",
    "    # only proceed if at least one contour was found\n",
    "    if len(cnts) > 0:\n",
    "        # find the largest contour in the mask, then use it to compute\n",
    "        c = max(cnts, key=cv2.contourArea)\n",
    "        \n",
    "        # 바운딩 박스 생성\n",
    "        x,y,w,h = cv2.boundingRect(c)\n",
    "\n",
    "        if w > 6 and h > 6:\n",
    "            draw_bounding_box(frame, x, y, w, h)\n",
    "    \n",
    "\n",
    "    # 이미지 출력\n",
    "    cv2.imshow(\"Frame\", frame)\n",
    "    \n",
    "    if cv2.waitKey(1) & 0xFF == ord(\"q\"):\n",
    "        break\n",
    "\n",
    "camera.release()\n",
    "cv2.destroyAllWindows()\n",
    "cv2.waitKey(1)"
   ]
  },
  {
   "cell_type": "code",
   "execution_count": null,
   "id": "185d7a0a-f373-4344-882f-46da0b8781d0",
   "metadata": {},
   "outputs": [],
   "source": []
  }
 ],
 "metadata": {
  "kernelspec": {
   "display_name": "Python 3 (ipykernel)",
   "language": "python",
   "name": "python3"
  },
  "language_info": {
   "codemirror_mode": {
    "name": "ipython",
    "version": 3
   },
   "file_extension": ".py",
   "mimetype": "text/x-python",
   "name": "python",
   "nbconvert_exporter": "python",
   "pygments_lexer": "ipython3",
   "version": "3.8.10"
  }
 },
 "nbformat": 4,
 "nbformat_minor": 5
}
